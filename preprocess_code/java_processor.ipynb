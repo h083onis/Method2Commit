{
 "cells": [
  {
   "cell_type": "code",
   "execution_count": 64,
   "metadata": {},
   "outputs": [],
   "source": [
    "from tree_sitter import Language, Parser\n",
    "import  tree_sitter_java as tsjava\n",
    "JAVA_LANGUAGE = Language(tsjava.language())\n",
    "parser = Parser(JAVA_LANGUAGE)"
   ]
  },
  {
   "cell_type": "code",
   "execution_count": 65,
   "metadata": {},
   "outputs": [],
   "source": [
    "with open('after.txt', 'r', encoding='utf8') as f:\n",
    "    code = f.read()\n",
    "code = bytes(code, \"utf8\", errors='ignore')\n",
    "tree = parser.parse(code)"
   ]
  },
  {
   "cell_type": "code",
   "execution_count": 63,
   "metadata": {},
   "outputs": [
    {
     "name": "stdout",
     "output_type": "stream",
     "text": [
      "(program (package_declaration (scoped_identifier scope: (scoped_identifier scope: (scoped_identifier scope: (identifier) name: (identifier)) name: (identifier)) name: (identifier))) (import_declaration (scoped_identifier scope: (scoped_identifier scope: (scoped_identifier scope: (identifier) name: (identifier)) name: (identifier)) name: (identifier))) (import_declaration (scoped_identifier scope: (scoped_identifier scope: (scoped_identifier scope: (identifier) name: (identifier)) name: (identifier)) name: (identifier))) (import_declaration (scoped_identifier scope: (scoped_identifier scope: (scoped_identifier scope: (identifier) name: (identifier)) name: (identifier)) name: (identifier))) (import_declaration (scoped_identifier scope: (scoped_identifier scope: (scoped_identifier scope: (identifier) name: (identifier)) name: (identifier)) name: (identifier))) (import_declaration (scoped_identifier scope: (scoped_identifier scope: (scoped_identifier scope: (scoped_identifier scope: (identifier) name: (identifier)) name: (identifier)) name: (identifier)) name: (identifier))) (import_declaration (scoped_identifier scope: (scoped_identifier scope: (scoped_identifier scope: (scoped_identifier scope: (identifier) name: (identifier)) name: (identifier)) name: (identifier)) name: (identifier))) (import_declaration (scoped_identifier scope: (scoped_identifier scope: (scoped_identifier scope: (scoped_identifier scope: (identifier) name: (identifier)) name: (identifier)) name: (identifier)) name: (identifier))) (import_declaration (scoped_identifier scope: (scoped_identifier scope: (identifier) name: (identifier)) name: (identifier))) (import_declaration (scoped_identifier scope: (scoped_identifier scope: (identifier) name: (identifier)) name: (identifier))) (import_declaration (scoped_identifier scope: (scoped_identifier scope: (scoped_identifier scope: (scoped_identifier scope: (identifier) name: (identifier)) name: (identifier)) name: (identifier)) name: (identifier))) (class_declaration (modifiers) name: (identifier) type_parameters: (type_parameters (type_parameter (type_identifier) (type_bound (type_identifier)))) body: (class_body (field_declaration (modifiers) type: (generic_type (type_identifier) (type_arguments (type_identifier))) declarator: (variable_declarator name: (identifier))) (field_declaration (modifiers) type: (generic_type (type_identifier) (type_arguments (generic_type (type_identifier) (type_arguments (type_identifier))))) declarator: (variable_declarator name: (identifier) value: (object_creation_expression type: (generic_type (type_identifier) (type_arguments (generic_type (type_identifier) (type_arguments (type_identifier))))) arguments: (argument_list)))) (field_declaration (modifiers) type: (type_identifier) declarator: (variable_declarator name: (identifier) value: (object_creation_expression type: (type_identifier) arguments: (argument_list (false))))) (method_declaration (modifiers) type: (void_type) name: (identifier) parameters: (formal_parameters)) (method_declaration (modifiers) type: (generic_type (type_identifier) (type_arguments (type_identifier))) name: (identifier) parameters: (formal_parameters (formal_parameter type: (type_identifier) name: (identifier))) body: (block (return_statement (method_invocation object: (method_invocation name: (identifier) arguments: (argument_list)) name: (identifier) arguments: (argument_list (identifier)))))) (method_declaration (modifiers) type: (generic_type (type_identifier) (type_arguments (type_identifier))) name: (identifier) parameters: (formal_parameters (formal_parameter type: (type_identifier) name: (identifier))) body: (block (return_statement (method_invocation name: (identifier) arguments: (argument_list (method_invocation name: (identifier) arguments: (argument_list (identifier)))))))) (method_declaration (modifiers) type: (generic_type (type_identifier) (type_arguments (type_identifier))) name: (identifier) parameters: (formal_parameters (formal_parameter type: (generic_type (type_identifier) (type_arguments (type_identifier))) name: (identifier))) body: (block (return_statement (object_creation_expression type: (generic_type (type_identifier) (type_arguments (type_identifier))) arguments: (argument_list (this) (identifier)))))) (method_declaration (modifiers) type: (void_type) name: (identifier) parameters: (formal_parameters (formal_parameter type: (generic_type (type_identifier) (type_arguments (type_identifier))) name: (identifier))) body: (block (expression_statement (method_invocation object: (identifier) name: (identifier) arguments: (argument_list (identifier)))))) (method_declaration (modifiers) type: (generic_type (type_identifier) (type_arguments (type_identifier))) name: (identifier) parameters: (formal_parameters (formal_parameter (modifiers) type: (type_identifier) name: (identifier)) (formal_parameter (modifiers) type: (type_identifier) name: (identifier))) body: (block (return_statement (object_creation_expression type: (generic_type (type_identifier) (type_arguments (type_identifier))) arguments: (argument_list) (class_body (method_declaration (modifiers) type: (boolean_type) name: (identifier) parameters: (formal_parameters (formal_parameter type: (type_identifier) name: (identifier))) body: (block (return_statement (method_invocation object: (identifier) name: (identifier) arguments: (argument_list (identifier) (method_invocation object: (identifier) name: (identifier) arguments: (argument_list (identifier))))))))))))) (method_declaration (modifiers) type: (generic_type (type_identifier) (type_arguments (generic_type (type_identifier) (type_arguments (type_identifier))))) name: (identifier) parameters: (formal_parameters) body: (block (expression_statement (method_invocation name: (identifier) arguments: (argument_list))) (return_statement (identifier)))) (method_declaration (modifiers) type: (generic_type (type_identifier) (type_arguments (type_identifier))) name: (identifier) parameters: (formal_parameters) body: (block (if_statement condition: (parenthesized_expression (binary_expression left: (identifier) right: (null_literal))) consequence: (block (expression_statement (assignment_expression left: (identifier) right: (method_invocation name: (identifier) arguments: (argument_list)))))) (return_statement (identifier)))) (method_declaration (modifiers) type: (void_type) name: (identifier) parameters: (formal_parameters (formal_parameter type: (generic_type (type_identifier) (type_arguments (type_identifier))) name: (identifier))) body: (block (expression_statement (assignment_expression left: (field_access object: (this) field: (identifier)) right: (identifier))))) (method_declaration (modifiers) type: (generic_type (type_identifier) (type_arguments (type_identifier))) name: (identifier) parameters: (formal_parameters) body: (block (return_statement (object_creation_expression type: (generic_type (type_identifier) (type_arguments (type_identifier))) arguments: (argument_list))))) (method_declaration (modifiers) type: (void_type) name: (identifier) parameters: (formal_parameters) body: (block (if_statement condition: (parenthesized_expression (method_invocation object: (identifier) name: (identifier) arguments: (argument_list (false) (true)))) consequence: (block (expression_statement (method_invocation name: (identifier) arguments: (argument_list))))))))))\n"
     ]
    }
   ],
   "source": [
    "print(tree.root_node)"
   ]
  },
  {
   "cell_type": "code",
   "execution_count": 69,
   "metadata": {},
   "outputs": [],
   "source": [
    "def extract_node_info(node, ast_txt):\n",
    "    ast_txt += '('+node.type\n",
    "    if len(node.children) == 0:\n",
    "        ast_txt += ', '+node.text.decode(\"utf8\", errors='ignore')\n",
    "    # ast_txt += '\\n'\n",
    "    for child in node.children:\n",
    "        ast_txt = extract_node_info(child, ast_txt)\n",
    "    ast_txt += ')'\n",
    "    return ast_txt\n",
    "\n",
    "def dfs(node, method_list, class_name): # Depth-First Search「深さ優先探索」\n",
    "    if node.type == 'class_declaration':\n",
    "        for child in node.children:\n",
    "            if child.type == 'identifier':\n",
    "                class_name = child.text.decode(\"utf8\", errors='ignore')\n",
    "    if node.type == 'method_declaration':\n",
    "        method_dict = {}\n",
    "        method_dict['class_name'] = class_name\n",
    "        method_name = ''\n",
    "        for child in node.children:\n",
    "            if child.type == 'identifier' or child.type == 'formal_parameters':\n",
    "                method_name += child.text.decode(\"utf8\", errors='ignore')\n",
    "        method_dict['method_name'] = method_name\n",
    "        method_dict['content'] = node.text.decode(\"utf8\", errors='ignore')\n",
    "        ast_txt = ''\n",
    "        method_dict['ast'] = extract_node_info(node, ast_txt)\n",
    "        method_dict['position'] = [node.start_byte, node.end_byte]\n",
    "        method_list.append(method_dict)\n",
    "        return\n",
    "    \n",
    "    [dfs(child, method_list, class_name) for child in node.children]"
   ]
  },
  {
   "cell_type": "code",
   "execution_count": 70,
   "metadata": {},
   "outputs": [],
   "source": [
    "method_list = []\n",
    "class_name = ''\n",
    "dfs(tree.root_node, method_list, class_name)"
   ]
  },
  {
   "cell_type": "code",
   "execution_count": 71,
   "metadata": {},
   "outputs": [
    {
     "data": {
      "text/plain": [
       "[{'class_name': 'RouteBuilder',\n",
       "  'method_name': 'configure()',\n",
       "  'content': 'public abstract void configure();',\n",
       "  'ast': '(method_declaration(modifiers(public, public)(abstract, abstract))(void_type, void)(identifier, configure)(formal_parameters((, ()(), )))(;, ;))',\n",
       "  'position': [846, 879]},\n",
       " {'class_name': 'RouteBuilder',\n",
       "  'method_name': 'endpoint(String uri)',\n",
       "  'content': 'public Endpoint<E> endpoint(String uri) {\\n        return getEndpointResolver().resolve(uri);\\n    }',\n",
       "  'ast': '(method_declaration(modifiers(public, public))(generic_type(type_identifier, Endpoint)(type_arguments(<, <)(type_identifier, E)(>, >)))(identifier, endpoint)(formal_parameters((, ()(formal_parameter(type_identifier, String)(identifier, uri))(), )))(block({, {)(return_statement(return, return)(method_invocation(method_invocation(identifier, getEndpointResolver)(argument_list((, ()(), ))))(., .)(identifier, resolve)(argument_list((, ()(identifier, uri)(), ))))(;, ;))(}, })))',\n",
       "  'position': [884, 982]},\n",
       " {'class_name': 'RouteBuilder',\n",
       "  'method_name': 'from(String uri)',\n",
       "  'content': 'public DestinationBuilder<E> from(String uri) {\\n        return from(endpoint(uri));\\n    }',\n",
       "  'ast': '(method_declaration(modifiers(public, public))(generic_type(type_identifier, DestinationBuilder)(type_arguments(<, <)(type_identifier, E)(>, >)))(identifier, from)(formal_parameters((, ()(formal_parameter(type_identifier, String)(identifier, uri))(), )))(block({, {)(return_statement(return, return)(method_invocation(identifier, from)(argument_list((, ()(method_invocation(identifier, endpoint)(argument_list((, ()(identifier, uri)(), ))))(), ))))(;, ;))(}, })))',\n",
       "  'position': [987, 1076]},\n",
       " {'class_name': 'RouteBuilder',\n",
       "  'method_name': 'from(Endpoint<E> endpoint)',\n",
       "  'content': 'public DestinationBuilder<E> from(Endpoint<E> endpoint) {\\n        DestinationBuilder<E> answer = new DestinationBuilder<E>(this, endpoint);\\n        destinationBuilders.add(answer);\\n        return answer;\\n    }',\n",
       "  'ast': '(method_declaration(modifiers(public, public))(generic_type(type_identifier, DestinationBuilder)(type_arguments(<, <)(type_identifier, E)(>, >)))(identifier, from)(formal_parameters((, ()(formal_parameter(generic_type(type_identifier, Endpoint)(type_arguments(<, <)(type_identifier, E)(>, >)))(identifier, endpoint))(), )))(block({, {)(local_variable_declaration(generic_type(type_identifier, DestinationBuilder)(type_arguments(<, <)(type_identifier, E)(>, >)))(variable_declarator(identifier, answer)(=, =)(object_creation_expression(new, new)(generic_type(type_identifier, DestinationBuilder)(type_arguments(<, <)(type_identifier, E)(>, >)))(argument_list((, ()(this, this)(,, ,)(identifier, endpoint)(), )))))(;, ;))(expression_statement(method_invocation(identifier, destinationBuilders)(., .)(identifier, add)(argument_list((, ()(identifier, answer)(), ))))(;, ;))(return_statement(return, return)(identifier, answer)(;, ;))(}, })))',\n",
       "  'position': [1081, 1290]},\n",
       " {'class_name': 'RouteBuilder',\n",
       "  'method_name': 'headerEquals(final String header, final Object value)',\n",
       "  'content': 'public Predicate<E> headerEquals(final String header, final Object value) {\\n        return new Predicate<E>() {\\n            public boolean evaluate(E exchange) {\\n                return ObjectHelper.equals(value, exchange.getHeader(header));\\n            }\\n            @Override\\n            public String toString() {\\n                return \"header[\" + header + \"] == \" + value;\\n            }\\n        };\\n    }',\n",
       "  'ast': '(method_declaration(modifiers(public, public))(generic_type(type_identifier, Predicate)(type_arguments(<, <)(type_identifier, E)(>, >)))(identifier, headerEquals)(formal_parameters((, ()(formal_parameter(modifiers(final, final))(type_identifier, String)(identifier, header))(,, ,)(formal_parameter(modifiers(final, final))(type_identifier, Object)(identifier, value))(), )))(block({, {)(return_statement(return, return)(object_creation_expression(new, new)(generic_type(type_identifier, Predicate)(type_arguments(<, <)(type_identifier, E)(>, >)))(argument_list((, ()(), )))(class_body({, {)(method_declaration(modifiers(public, public))(boolean_type, boolean)(identifier, evaluate)(formal_parameters((, ()(formal_parameter(type_identifier, E)(identifier, exchange))(), )))(block({, {)(return_statement(return, return)(method_invocation(identifier, ObjectHelper)(., .)(identifier, equals)(argument_list((, ()(identifier, value)(,, ,)(method_invocation(identifier, exchange)(., .)(identifier, getHeader)(argument_list((, ()(identifier, header)(), ))))(), ))))(;, ;))(}, })))(method_declaration(modifiers(marker_annotation(@, @)(identifier, Override))(public, public))(type_identifier, String)(identifier, toString)(formal_parameters((, ()(), )))(block({, {)(return_statement(return, return)(binary_expression(binary_expression(binary_expression(string_literal(\", \")(string_fragment, header[)(\", \"))(+, +)(identifier, header))(+, +)(string_literal(\", \")(string_fragment, ] == )(\", \")))(+, +)(identifier, value))(;, ;))(}, })))(}, })))(;, ;))(}, })))',\n",
       "  'position': [1295, 1702]},\n",
       " {'class_name': 'RouteBuilder',\n",
       "  'method_name': 'getRouteMap()',\n",
       "  'content': 'public Map<Endpoint<E>, List<Processor<E>>> getRouteMap() {\\n        checkInitialized();\\n        return routeMap;\\n    }',\n",
       "  'ast': '(method_declaration(modifiers(public, public))(generic_type(type_identifier, Map)(type_arguments(<, <)(generic_type(type_identifier, Endpoint)(type_arguments(<, <)(type_identifier, E)(>, >)))(,, ,)(generic_type(type_identifier, List)(type_arguments(<, <)(generic_type(type_identifier, Processor)(type_arguments(<, <)(type_identifier, E)(>, >)))(>, >)))(>, >)))(identifier, getRouteMap)(formal_parameters((, ()(), )))(block({, {)(expression_statement(method_invocation(identifier, checkInitialized)(argument_list((, ()(), ))))(;, ;))(return_statement(return, return)(identifier, routeMap)(;, ;))(}, })))',\n",
       "  'position': [1707, 1825]},\n",
       " {'class_name': 'RouteBuilder',\n",
       "  'method_name': 'getDestinationBuilders()',\n",
       "  'content': 'public List<DestinationBuilder<E>> getDestinationBuilders() {\\n        checkInitialized();\\n        return destinationBuilders;\\n    }',\n",
       "  'ast': '(method_declaration(modifiers(public, public))(generic_type(type_identifier, List)(type_arguments(<, <)(generic_type(type_identifier, DestinationBuilder)(type_arguments(<, <)(type_identifier, E)(>, >)))(>, >)))(identifier, getDestinationBuilders)(formal_parameters((, ()(), )))(block({, {)(expression_statement(method_invocation(identifier, checkInitialized)(argument_list((, ()(), ))))(;, ;))(return_statement(return, return)(identifier, destinationBuilders)(;, ;))(}, })))',\n",
       "  'position': [1830, 1961]},\n",
       " {'class_name': 'RouteBuilder',\n",
       "  'method_name': 'getEndpointResolver()',\n",
       "  'content': 'public EndpointResolver<E> getEndpointResolver() {\\n        if (endpointResolver == null) {\\n            endpointResolver = createEndpointResolver();\\n        }\\n        return endpointResolver;\\n    }',\n",
       "  'ast': '(method_declaration(modifiers(public, public))(generic_type(type_identifier, EndpointResolver)(type_arguments(<, <)(type_identifier, E)(>, >)))(identifier, getEndpointResolver)(formal_parameters((, ()(), )))(block({, {)(if_statement(if, if)(parenthesized_expression((, ()(binary_expression(identifier, endpointResolver)(==, ==)(null_literal, null))(), )))(block({, {)(expression_statement(assignment_expression(identifier, endpointResolver)(=, =)(method_invocation(identifier, createEndpointResolver)(argument_list((, ()(), )))))(;, ;))(}, })))(return_statement(return, return)(identifier, endpointResolver)(;, ;))(}, })))',\n",
       "  'position': [1966, 2162]},\n",
       " {'class_name': 'RouteBuilder',\n",
       "  'method_name': 'setEndpointResolver(EndpointResolver<E> endpointResolver)',\n",
       "  'content': 'public void setEndpointResolver(EndpointResolver<E> endpointResolver) {\\n        this.endpointResolver = endpointResolver;\\n    }',\n",
       "  'ast': '(method_declaration(modifiers(public, public))(void_type, void)(identifier, setEndpointResolver)(formal_parameters((, ()(formal_parameter(generic_type(type_identifier, EndpointResolver)(type_arguments(<, <)(type_identifier, E)(>, >)))(identifier, endpointResolver))(), )))(block({, {)(expression_statement(assignment_expression(field_access(this, this)(., .)(identifier, endpointResolver))(=, =)(identifier, endpointResolver))(;, ;))(}, })))',\n",
       "  'position': [2167, 2294]},\n",
       " {'class_name': 'RouteBuilder',\n",
       "  'method_name': 'createEndpointResolver()',\n",
       "  'content': 'protected EndpointResolver<E> createEndpointResolver() {\\n        return new DefaultEndpointResolver<E>();\\n    }',\n",
       "  'ast': '(method_declaration(modifiers(protected, protected))(generic_type(type_identifier, EndpointResolver)(type_arguments(<, <)(type_identifier, E)(>, >)))(identifier, createEndpointResolver)(formal_parameters((, ()(), )))(block({, {)(return_statement(return, return)(object_creation_expression(new, new)(generic_type(type_identifier, DefaultEndpointResolver)(type_arguments(<, <)(type_identifier, E)(>, >)))(argument_list((, ()(), ))))(;, ;))(}, })))',\n",
       "  'position': [2299, 2410]},\n",
       " {'class_name': 'RouteBuilder',\n",
       "  'method_name': 'checkInitialized()',\n",
       "  'content': 'protected void checkInitialized() {\\n        if (initalized.compareAndSet(false, true)) {\\n            configure();\\n            populateRouteMap(routeMap);\\n        }\\n    }',\n",
       "  'ast': '(method_declaration(modifiers(protected, protected))(void_type, void)(identifier, checkInitialized)(formal_parameters((, ()(), )))(block({, {)(if_statement(if, if)(parenthesized_expression((, ()(method_invocation(identifier, initalized)(., .)(identifier, compareAndSet)(argument_list((, ()(false, false)(,, ,)(true, true)(), ))))(), )))(block({, {)(expression_statement(method_invocation(identifier, configure)(argument_list((, ()(), ))))(;, ;))(expression_statement(method_invocation(identifier, populateRouteMap)(argument_list((, ()(identifier, routeMap)(), ))))(;, ;))(}, })))(}, })))',\n",
       "  'position': [2415, 2584]},\n",
       " {'class_name': 'RouteBuilder',\n",
       "  'method_name': 'populateRouteMap(Map<Endpoint<E>, List<Processor<E>>> routeMap)',\n",
       "  'content': 'protected void populateRouteMap(Map<Endpoint<E>, List<Processor<E>>> routeMap) {\\n        for (DestinationBuilder<E> destinationBuilder : destinationBuilders) {\\n            Endpoint<E> from = destinationBuilder.getFrom();\\n            destinationBuilder.createProcessors();\\n            List<Processor<E>> processors = destinationBuilder.getProcessors();\\n            routeMap.put(from, processors);\\n        }\\n    }',\n",
       "  'ast': '(method_declaration(modifiers(protected, protected))(void_type, void)(identifier, populateRouteMap)(formal_parameters((, ()(formal_parameter(generic_type(type_identifier, Map)(type_arguments(<, <)(generic_type(type_identifier, Endpoint)(type_arguments(<, <)(type_identifier, E)(>, >)))(,, ,)(generic_type(type_identifier, List)(type_arguments(<, <)(generic_type(type_identifier, Processor)(type_arguments(<, <)(type_identifier, E)(>, >)))(>, >)))(>, >)))(identifier, routeMap))(), )))(block({, {)(enhanced_for_statement(for, for)((, ()(generic_type(type_identifier, DestinationBuilder)(type_arguments(<, <)(type_identifier, E)(>, >)))(identifier, destinationBuilder)(:, :)(identifier, destinationBuilders)(), ))(block({, {)(local_variable_declaration(generic_type(type_identifier, Endpoint)(type_arguments(<, <)(type_identifier, E)(>, >)))(variable_declarator(identifier, from)(=, =)(method_invocation(identifier, destinationBuilder)(., .)(identifier, getFrom)(argument_list((, ()(), )))))(;, ;))(expression_statement(method_invocation(identifier, destinationBuilder)(., .)(identifier, createProcessors)(argument_list((, ()(), ))))(;, ;))(local_variable_declaration(generic_type(type_identifier, List)(type_arguments(<, <)(generic_type(type_identifier, Processor)(type_arguments(<, <)(type_identifier, E)(>, >)))(>, >)))(variable_declarator(identifier, processors)(=, =)(method_invocation(identifier, destinationBuilder)(., .)(identifier, getProcessors)(argument_list((, ()(), )))))(;, ;))(expression_statement(method_invocation(identifier, routeMap)(., .)(identifier, put)(argument_list((, ()(identifier, from)(,, ,)(identifier, processors)(), ))))(;, ;))(}, })))(}, })))',\n",
       "  'position': [2589, 3000]}]"
      ]
     },
     "execution_count": 71,
     "metadata": {},
     "output_type": "execute_result"
    }
   ],
   "source": [
    "method_list"
   ]
  },
  {
   "cell_type": "code",
   "execution_count": 7,
   "metadata": {},
   "outputs": [
    {
     "name": "stdout",
     "output_type": "stream",
     "text": [
      "(method_declaration(modifiers(public, public)(static, static))(type_parameters(<, <)(type_parameter(type_identifier, E))(>, >))(generic_type(type_identifier, Predicate)(type_arguments(<, <)(type_identifier, E)(>, >)))(identifier, and)(formal_parameters((, ()(formal_parameter(modifiers(final, final))(generic_type(type_identifier, Predicate)(type_arguments(<, <)(type_identifier, E)(>, >)))(identifier, left))(,, ,)(formal_parameter(modifiers(final, final))(generic_type(type_identifier, Predicate)(type_arguments(<, <)(type_identifier, E)(>, >)))(identifier, right))(), )))(block({, {)(expression_statement(method_invocation(identifier, ObjectHelper)(., .)(identifier, notNull)(argument_list((, ()(identifier, left)(,, ,)(string_literal(\", \")(string_fragment, left)(\", \"))(), ))))(;, ;))(expression_statement(method_invocation(identifier, ObjectHelper)(., .)(identifier, notNull)(argument_list((, ()(identifier, right)(,, ,)(string_literal(\", \")(string_fragment, right)(\", \"))(), ))))(;, ;))(return_statement(return, return)(object_creation_expression(new, new)(generic_type(type_identifier, Predicate)(type_arguments(<, <)(type_identifier, E)(>, >)))(argument_list((, ()(), )))(class_body({, {)(method_declaration(modifiers(public, public))(boolean_type, boolean)(identifier, evaluate)(formal_parameters((, ()(formal_parameter(type_identifier, E)(identifier, exchange))(), )))(block({, {)(return_statement(return, return)(binary_expression(method_invocation(identifier, left)(., .)(identifier, evaluate)(argument_list((, ()(identifier, exchange)(), ))))(&&, &&)(method_invocation(identifier, right)(., .)(identifier, evaluate)(argument_list((, ()(identifier, exchange)(), )))))(;, ;))(}, })))(}, })))(;, ;))(}, })))\n",
      "(method_declaration(modifiers(public, public)(static, static))(type_parameters(<, <)(type_parameter(type_identifier, E))(>, >))(generic_type(type_identifier, Predicate)(type_arguments(<, <)(type_identifier, E)(>, >)))(identifier, or)(formal_parameters((, ()(formal_parameter(modifiers(final, final))(generic_type(type_identifier, Predicate)(type_arguments(<, <)(type_identifier, E)(>, >)))(identifier, left))(,, ,)(formal_parameter(modifiers(final, final))(generic_type(type_identifier, Predicate)(type_arguments(<, <)(type_identifier, E)(>, >)))(identifier, right))(), )))(block({, {)(expression_statement(method_invocation(identifier, ObjectHelper)(., .)(identifier, notNull)(argument_list((, ()(identifier, left)(,, ,)(string_literal(\", \")(string_fragment, left)(\", \"))(), ))))(;, ;))(expression_statement(method_invocation(identifier, ObjectHelper)(., .)(identifier, notNull)(argument_list((, ()(identifier, right)(,, ,)(string_literal(\", \")(string_fragment, right)(\", \"))(), ))))(;, ;))(return_statement(return, return)(object_creation_expression(new, new)(generic_type(type_identifier, Predicate)(type_arguments(<, <)(type_identifier, E)(>, >)))(argument_list((, ()(), )))(class_body({, {)(method_declaration(modifiers(public, public))(boolean_type, boolean)(identifier, evaluate)(formal_parameters((, ()(formal_parameter(type_identifier, E)(identifier, exchange))(), )))(block({, {)(return_statement(return, return)(binary_expression(method_invocation(identifier, left)(., .)(identifier, evaluate)(argument_list((, ()(identifier, exchange)(), ))))(||, ||)(method_invocation(identifier, right)(., .)(identifier, evaluate)(argument_list((, ()(identifier, exchange)(), )))))(;, ;))(}, })))(}, })))(;, ;))(}, })))\n"
     ]
    }
   ],
   "source": [
    "for method in method_list:\n",
    "    print(method['ast'])"
   ]
  },
  {
   "cell_type": "code",
   "execution_count": 33,
   "metadata": {},
   "outputs": [
    {
     "data": {
      "text/plain": [
       "15"
      ]
     },
     "execution_count": 33,
     "metadata": {},
     "output_type": "execute_result"
    }
   ],
   "source": [
    "method_list[0]['position'][1][0]"
   ]
  },
  {
   "cell_type": "code",
   "execution_count": 17,
   "metadata": {},
   "outputs": [],
   "source": [
    "code = bytes(method_list[0]['content'], \"utf8\", errors='ignore')\n",
    "tree = parser.parse(code)"
   ]
  }
 ],
 "metadata": {
  "kernelspec": {
   "display_name": "M2C",
   "language": "python",
   "name": "python3"
  },
  "language_info": {
   "codemirror_mode": {
    "name": "ipython",
    "version": 3
   },
   "file_extension": ".py",
   "mimetype": "text/x-python",
   "name": "python",
   "nbconvert_exporter": "python",
   "pygments_lexer": "ipython3",
   "version": "3.11.9"
  }
 },
 "nbformat": 4,
 "nbformat_minor": 2
}
