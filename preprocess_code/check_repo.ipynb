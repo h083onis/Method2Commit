{
 "cells": [
  {
   "cell_type": "code",
   "execution_count": 4,
   "metadata": {},
   "outputs": [
    {
     "name": "stdout",
     "output_type": "stream",
     "text": [
      "179b7ece6358193accd5759d5e307574b395a37d\n"
     ]
    }
   ],
   "source": [
    "repo_path = \"../../../sample_data/camel\"\n",
    "from git import Repo\n",
    "repo = Repo(repo_path)\n",
    "head = repo.head\n",
    "if head.is_detached:\n",
    "    pointer = head.commit.hexsha\n",
    "else:\n",
    "    pointer = head.reference\n",
    "print(pointer)\n",
    "commits = list(repo.iter_commits(pointer))"
   ]
  },
  {
   "cell_type": "code",
   "execution_count": 5,
   "metadata": {},
   "outputs": [
    {
     "name": "stdout",
     "output_type": "stream",
     "text": [
      "179b7ece6358193accd5759d5e307574b395a37d\n",
      "['INDEX', 'Index', 'NULL_BIN_SHA', 'NULL_HEX_SHA', 'NULL_TREE', 'TIobj_tuple', 'TYPES', '__abstractmethods__', '__annotations__', '__class__', '__class_getitem__', '__delattr__', '__dir__', '__doc__', '__eq__', '__format__', '__ge__', '__getattr__', '__getattribute__', '__getstate__', '__gt__', '__hash__', '__init__', '__init_subclass__', '__le__', '__lt__', '__module__', '__ne__', '__new__', '__parameters__', '__reduce__', '__reduce_ex__', '__repr__', '__setattr__', '__sizeof__', '__slots__', '__str__', '__subclasshook__', '_abc_impl', '_calculate_sha_', '_deserialize', '_get_intermediate_items', '_id_attribute_', '_is_protocol', '_is_runtime_protocol', '_iter_from_process_or_stream', '_list_traverse', '_process_diff_args', '_serialize', '_set_cache_', '_traverse', 'author', 'author_tz_offset', 'authored_date', 'authored_datetime', 'binsha', 'co_authors', 'committed_date', 'committed_datetime', 'committer', 'committer_tz_offset', 'conf_encoding', 'count', 'create_from_tree', 'data_stream', 'default_encoding', 'diff', 'encoding', 'env_author_date', 'env_committer_date', 'gpgsig', 'hexsha', 'iter_items', 'iter_parents', 'list_items', 'list_traverse', 'message', 'name_rev', 'new', 'new_from_sha', 'parents', 'replace', 'repo', 'size', 'stats', 'stream_data', 'summary', 'trailers', 'trailers_dict', 'trailers_list', 'traverse', 'tree', 'type']\n"
     ]
    }
   ],
   "source": [
    "for commit in repo.iter_commits(pointer):\n",
    "    print(commit.hexsha)\n",
    "    print(dir(commit))\n",
    "    break"
   ]
  },
  {
   "cell_type": "code",
   "execution_count": 8,
   "metadata": {},
   "outputs": [
    {
     "data": {
      "text/plain": [
       "<git.Commit \"9c15e67cde9c4d17f2dfba9c9a3fc3a3dbb9d401\">"
      ]
     },
     "execution_count": 8,
     "metadata": {},
     "output_type": "execute_result"
    }
   ],
   "source": [
    "commits[-2]"
   ]
  }
 ],
 "metadata": {
  "kernelspec": {
   "display_name": "M2C",
   "language": "python",
   "name": "python3"
  },
  "language_info": {
   "codemirror_mode": {
    "name": "ipython",
    "version": 3
   },
   "file_extension": ".py",
   "mimetype": "text/x-python",
   "name": "python",
   "nbconvert_exporter": "python",
   "pygments_lexer": "ipython3",
   "version": "3.11.9"
  }
 },
 "nbformat": 4,
 "nbformat_minor": 2
}
