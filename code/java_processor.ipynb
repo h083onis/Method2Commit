{
 "cells": [
  {
   "cell_type": "code",
   "execution_count": 6,
   "metadata": {},
   "outputs": [],
   "source": [
    "from tree_sitter import Language, Parser\n",
    "import  tree_sitter_java as tsjava\n",
    "JAVA_LANGUAGE = Language(tsjava.language())\n",
    "parser = Parser(JAVA_LANGUAGE)"
   ]
  },
  {
   "cell_type": "code",
   "execution_count": 62,
   "metadata": {},
   "outputs": [],
   "source": [
    "with open('test.java', 'r', encoding='utf8') as f:\n",
    "    code = f.read()\n",
    "code = bytes(code, \"utf8\", errors='ignore')\n",
    "tree = parser.parse(code)"
   ]
  },
  {
   "cell_type": "code",
   "execution_count": 63,
   "metadata": {},
   "outputs": [
    {
     "name": "stdout",
     "output_type": "stream",
     "text": [
      "(program (package_declaration (identifier)) (import_declaration (scoped_identifier scope: (scoped_identifier scope: (identifier) name: (identifier)) name: (identifier))) (import_declaration (scoped_identifier scope: (scoped_identifier scope: (identifier) name: (identifier)) name: (identifier))) (import_declaration (scoped_identifier scope: (scoped_identifier scope: (identifier) name: (identifier)) name: (identifier))) (block_comment) (class_declaration (modifiers) name: (identifier) body: (class_body (method_declaration (modifiers) type: (void_type) name: (identifier) parameters: (formal_parameters (formal_parameter type: (array_type element: (type_identifier) dimensions: (dimensions)) name: (identifier))) body: (block (line_comment) (for_statement init: (local_variable_declaration type: (integral_type) declarator: (variable_declarator name: (identifier) value: (decimal_integer_literal))) condition: (binary_expression left: (identifier) right: (decimal_integer_literal)) update: (update_expression (identifier)) body: (block (expression_statement (method_invocation object: (field_access object: (identifier) field: (identifier)) name: (identifier) arguments: (argument_list (string_literal (string_fragment))))))))) (method_declaration (modifiers) type: (void_type) name: (identifier) parameters: (formal_parameters) body: (block (expression_statement (method_invocation object: (field_access object: (identifier) field: (identifier)) name: (identifier) arguments: (argument_list (string_literal (string_fragment))))))))))\n"
     ]
    }
   ],
   "source": [
    "print(tree.root_node)"
   ]
  },
  {
   "cell_type": "code",
   "execution_count": 195,
   "metadata": {},
   "outputs": [],
   "source": [
    "# def extract_node_info(code, node, ast_txt):\n",
    "#     ast_txt += '('+node.type\n",
    "#     if node.type == 'identifier':\n",
    "#         ast_txt += ', '+node.text.decode(\"utf8\", errors='ignore')\n",
    "#     ast_txt += '\\n'\n",
    "#     for child in node.children:\n",
    "#         ast_txt = extract_node_info(code, child, ast_txt)\n",
    "#     ast_txt += ')'\n",
    "#     return ast_txt\n",
    "\n",
    "def dfs(code, node, method_list): # Depth-First Search「深さ優先探索」\n",
    "    if node.type == 'method_declaration':\n",
    "        method_dict = {}\n",
    "        #second node is an identifier of a method\n",
    "        method_dict['name'] = node.children[2].text.decode(\"utf8\", errors='ignore') \n",
    "        method_dict['content'] = node.text.decode(\"utf8\", errors='ignore')\n",
    "        # ast_txt = ''\n",
    "        # method_dict['ast'] = extract_node_info(code, node, ast_txt)\n",
    "        method_dict['position'] = [node.start_point, node.end_point]\n",
    "        method_list.append(method_dict)\n",
    "        return\n",
    "    for child in node.children:\n",
    "        dfs(code, child, method_list)"
   ]
  },
  {
   "cell_type": "code",
   "execution_count": 196,
   "metadata": {},
   "outputs": [],
   "source": [
    "method_list = []\n",
    "dfs(code, tree.root_node, method_list)"
   ]
  },
  {
   "cell_type": "code",
   "execution_count": 197,
   "metadata": {},
   "outputs": [
    {
     "ename": "KeyError",
     "evalue": "'ast'",
     "output_type": "error",
     "traceback": [
      "\u001b[1;31m---------------------------------------------------------------------------\u001b[0m",
      "\u001b[1;31mKeyError\u001b[0m                                  Traceback (most recent call last)",
      "Cell \u001b[1;32mIn[197], line 2\u001b[0m\n\u001b[0;32m      1\u001b[0m \u001b[38;5;28;01mfor\u001b[39;00m method \u001b[38;5;129;01min\u001b[39;00m method_list:\n\u001b[1;32m----> 2\u001b[0m     \u001b[38;5;28mprint\u001b[39m(\u001b[43mmethod\u001b[49m\u001b[43m[\u001b[49m\u001b[38;5;124;43m'\u001b[39;49m\u001b[38;5;124;43mast\u001b[39;49m\u001b[38;5;124;43m'\u001b[39;49m\u001b[43m]\u001b[49m)\n",
      "\u001b[1;31mKeyError\u001b[0m: 'ast'"
     ]
    }
   ],
   "source": [
    "# for method in method_list:\n",
    "#     print(method['ast'])"
   ]
  },
  {
   "cell_type": "code",
   "execution_count": 198,
   "metadata": {},
   "outputs": [
    {
     "data": {
      "text/plain": [
       "[{'name': 'main',\n",
       "  'content': 'public static void main(String[] args) {\\n        // forループを使用して3回Hello Worldを出力\\n        for (int i = 0; i < 3; i++) {\\n            System.out.println(\"Hello World!\");\\n        }\\n    }',\n",
       "  'position': [Point(row=10, column=4), Point(row=15, column=5)]},\n",
       " {'name': 'sayHello',\n",
       "  'content': 'public static void sayHello() {\\n        System.out.println(\"Hello!\");\\n    }',\n",
       "  'position': [Point(row=16, column=4), Point(row=18, column=5)]}]"
      ]
     },
     "execution_count": 198,
     "metadata": {},
     "output_type": "execute_result"
    }
   ],
   "source": [
    "method_list"
   ]
  },
  {
   "cell_type": "code",
   "execution_count": null,
   "metadata": {},
   "outputs": [],
   "source": []
  },
  {
   "cell_type": "code",
   "execution_count": 25,
   "metadata": {},
   "outputs": [],
   "source": [
    "for function_name, function_start_point in zip(functions):\n",
    "    print(f\"Function: {function_name}, Start Point: {function_start_point}\")"
   ]
  }
 ],
 "metadata": {
  "kernelspec": {
   "display_name": "M2C",
   "language": "python",
   "name": "python3"
  },
  "language_info": {
   "codemirror_mode": {
    "name": "ipython",
    "version": 3
   },
   "file_extension": ".py",
   "mimetype": "text/x-python",
   "name": "python",
   "nbconvert_exporter": "python",
   "pygments_lexer": "ipython3",
   "version": "3.11.9"
  }
 },
 "nbformat": 4,
 "nbformat_minor": 2
}
